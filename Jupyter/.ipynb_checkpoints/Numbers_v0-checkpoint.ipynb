{
 "cells": [
  {
   "cell_type": "markdown",
   "metadata": {},
   "source": [
    "Get Externals, Note use of commentjson"
   ]
  },
  {
   "cell_type": "code",
   "execution_count": 1,
   "metadata": {},
   "outputs": [],
   "source": [
    "import os,sys,string,time,commentjson\n",
    "from csv import reader\n",
    "import matplotlib.pyplot as plt\n",
    "import matplotlib.colors as mcolors\n",
    "\n",
    "import numpy as np"
   ]
  },
  {
   "cell_type": "markdown",
   "metadata": {},
   "source": [
    "Utility function: object = cummulate(object,lifetime)"
   ]
  },
  {
   "cell_type": "code",
   "execution_count": 2,
   "metadata": {
    "jupyter": {
     "source_hidden": true
    }
   },
   "outputs": [],
   "source": [
    "# sum backwards over lifetime of record\n",
    "def cumulate(a,lifetime=100):\n",
    "  if lifetime < 1:\n",
    "    return a*lifetime\n",
    "  b = np.zeros(len(a))\n",
    "  for i in range(0,len(a)):\n",
    "    begin = max(0,i-lifetime+1)\n",
    "    for j in range(begin,i+1):\n",
    "      b[i] += a[j]\n",
    "  return b\n",
    "  "
   ]
  },
  {
   "cell_type": "markdown",
   "metadata": {},
   "source": [
    "Utility function: string = dump(datatype,det,object)"
   ]
  },
  {
   "cell_type": "code",
   "execution_count": 3,
   "metadata": {
    "jupyter": {
     "source_hidden": true
    }
   },
   "outputs": [],
   "source": [
    "# make a dump of a record\n",
    "\n",
    "def dump(det,datatype,a):\n",
    "  s = \"\"\n",
    "  s  += \"%5s, %10s (%s)\"%(det,datatype,Units[datatype])\n",
    "  for j in range(0,len(a)):\n",
    "    s += \", \"\n",
    "    s += \"%8.1f\"%a[j]\n",
    "  s += \"\\n\"\n",
    "  return s"
   ]
  },
  {
   "cell_type": "markdown",
   "metadata": {},
   "source": [
    "Utility function: DrawDet(Value,Years,Data,Types,Units,detcolors,detlines)"
   ]
  },
  {
   "cell_type": "code",
   "execution_count": 4,
   "metadata": {
    "jupyter": {
     "source_hidden": true
    }
   },
   "outputs": [],
   "source": [
    "  \n",
    "# for detector values\n",
    "def DrawDet(Value,Years,Data,Types,Units,detcolors,detlines):\n",
    "  \n",
    "  fig=plt.figure()\n",
    "  ax = fig.add_axes([0.2,0.2,0.7,0.7])\n",
    "  ax.set_xlim(2018,2030)\n",
    "  ax.spines['bottom'].set_position('zero')\n",
    "  toplot = Data[Value]\n",
    "  for type in Types:\n",
    "    ax.plot(Years,toplot[type],color=detcolors[type],linestyle=detlines[type],label=type)\n",
    "  ax.legend(frameon=False)\n",
    "  ax.set_title(Value)\n",
    "  ax.set_xlabel(\"Year\")\n",
    "  ax.set_ylabel(Value + \", \" + Units[Value])\n",
    "  plt.savefig(Value+\".png\",transparent=True)\n",
    "  plt.show()"
   ]
  },
  {
   "cell_type": "markdown",
   "metadata": {},
   "source": [
    "Utility function: DrawType(Value,Years,Data,Types,Units,typecolors,typelines)"
   ]
  },
  {
   "cell_type": "code",
   "execution_count": 5,
   "metadata": {
    "jupyter": {
     "source_hidden": true
    }
   },
   "outputs": [],
   "source": [
    "  \n",
    "# draw by data type (transpose of the detectors)\n",
    "\n",
    "def DrawType(Value,Years,Data,Types,Units,typecolors,typelines):\n",
    "  fig=plt.figure()\n",
    "  ax = fig.add_axes([0.2,0.2,0.7,0.7])\n",
    "  ax.set_xlim(2018,2030)\n",
    "  ax.spines['bottom'].set_position('zero')\n",
    "  for type in Types:\n",
    "    ax.plot(Years,Data[type][Value],color=typecolors[type],linestyle=typelines[type],label=type)\n",
    "  ax.legend(frameon=False)\n",
    "  ax.set_xlabel(\"Year\")\n",
    "  ax.set_ylabel(Value + \", \" + Units[Value])\n",
    "  ax.set_title(Value)\n",
    "  plt.savefig(Value+\".png\",transparent=True)\n",
    "  plt.show()"
   ]
  },
  {
   "cell_type": "markdown",
   "metadata": {},
   "source": [
    "Main initialization"
   ]
  },
  {
   "cell_type": "markdown",
   "metadata": {},
   "source": [
    "Read in the config file \"Parameters.json\""
   ]
  },
  {
   "cell_type": "code",
   "execution_count": 6,
   "metadata": {},
   "outputs": [],
   "source": [
    "# get parameters into config\n",
    "\n",
    "configfile = \"Parameters.json\"\n",
    "if os.path.exists(configfile):\n",
    "  with open(configfile,'r') as f:\n",
    "    config = commentjson.load(f)\n",
    "else:\n",
    "  print (\"no config file\",configfile)\n",
    "  sys.exit(0)"
   ]
  },
  {
   "cell_type": "markdown",
   "metadata": {},
   "source": [
    "Print the json file "
   ]
  },
  {
   "cell_type": "code",
   "execution_count": 7,
   "metadata": {
    "jupyter": {
     "source_hidden": true
    }
   },
   "outputs": [
    {
     "name": "stdout",
     "output_type": "stream",
     "text": [
      "{\n",
      "  \"Years\": [\n",
      "    2018,\n",
      "    2019,\n",
      "    2020,\n",
      "    2021,\n",
      "    2022,\n",
      "    2023,\n",
      "    2024,\n",
      "    2025,\n",
      "    2026,\n",
      "    2027,\n",
      "    2028,\n",
      "    2029,\n",
      "    2030\n",
      "  ],\n",
      "  \"Units\": {\n",
      "    \"Events\": \"Million\",\n",
      "    \"Raw\": \"PB\",\n",
      "    \"Test\": \"PB\",\n",
      "    \"Reco\": \"PB\",\n",
      "    \"CPU\": \"MHr\",\n",
      "    \"Sim Events\": \"M\",\n",
      "    \"Sim\": \"PB\",\n",
      "    \"Sim-CPU\": \"MHr\",\n",
      "    \"All\": \"PB\",\n",
      "    \"Years\": \"\",\n",
      "    \"Total-CPU\": \"MHr\",\n",
      "    \"Cumulative Tape\": \"PB\",\n",
      "    \"Cumulative Disk\": \"PB\",\n",
      "    \"Cores\": \"2020 Vintage Cores\"\n",
      "  },\n",
      "  \"Detectors\": [\n",
      "    \"SP\",\n",
      "    \"DP\",\n",
      "    \"FD\",\n",
      "    \"ND\"\n",
      "  ],\n",
      "  \"CombinedDetectors\": [\n",
      "    \"ProtoDUNE\",\n",
      "    \"FD\",\n",
      "    \"ND\"\n",
      "  ],\n",
      "  \"SP\": {\n",
      "    \"Raw\": 70,\n",
      "    \"CPU\": 0.1667,\n",
      "    \"Sim-CPU\": 0.75,\n",
      "    \"Reco\": 35,\n",
      "    \"Sim\": 220,\n",
      "    \"Events\": [\n",
      "      10.9,\n",
      "      19.4,\n",
      "      6.5,\n",
      "      6.5,\n",
      "      43.5,\n",
      "      20,\n",
      "      0,\n",
      "      0,\n",
      "      0,\n",
      "      0,\n",
      "      0,\n",
      "      0,\n",
      "      0\n",
      "    ],\n",
      "    \"Test\": [\n",
      "      157,\n",
      "      600,\n",
      "      500,\n",
      "      769.23,\n",
      "      3346.15,\n",
      "      500,\n",
      "      500,\n",
      "      500,\n",
      "      0,\n",
      "      0,\n",
      "      0,\n",
      "      0,\n",
      "      0\n",
      "    ],\n",
      "    \"Sim Events\": [\n",
      "      1.25,\n",
      "      5,\n",
      "      5,\n",
      "      5,\n",
      "      5,\n",
      "      5,\n",
      "      5,\n",
      "      5,\n",
      "      0,\n",
      "      0,\n",
      "      0,\n",
      "      0,\n",
      "      0\n",
      "    ]\n",
      "  },\n",
      "  \"DP\": {\n",
      "    \"Raw\": 110,\n",
      "    \"CPU\": 0.1667,\n",
      "    \"Sim-CPU\": 0.75,\n",
      "    \"Reco\": 20,\n",
      "    \"Sim\": 220,\n",
      "    \"Events\": [\n",
      "      0,\n",
      "      0.5,\n",
      "      0.9,\n",
      "      2,\n",
      "      10,\n",
      "      10,\n",
      "      0,\n",
      "      0,\n",
      "      0,\n",
      "      0,\n",
      "      0,\n",
      "      0,\n",
      "      0\n",
      "    ],\n",
      "    \"Test\": [\n",
      "      0,\n",
      "      42,\n",
      "      500,\n",
      "      231,\n",
      "      231,\n",
      "      231,\n",
      "      500,\n",
      "      500,\n",
      "      0,\n",
      "      0,\n",
      "      0,\n",
      "      0,\n",
      "      0\n",
      "    ],\n",
      "    \"Sim Events\": [\n",
      "      1.25,\n",
      "      5,\n",
      "      5,\n",
      "      5,\n",
      "      5,\n",
      "      5,\n",
      "      5,\n",
      "      5,\n",
      "      0,\n",
      "      0,\n",
      "      0,\n",
      "      0,\n",
      "      0\n",
      "    ]\n",
      "  },\n",
      "  \"FD\": {\n",
      "    \"Raw\": 1750,\n",
      "    \"CPU\": 1.25,\n",
      "    \"Sim-CPU\": 0.75,\n",
      "    \"Reco\": 175,\n",
      "    \"Sim\": 200,\n",
      "    \"Events\": [\n",
      "      0,\n",
      "      0,\n",
      "      0,\n",
      "      0,\n",
      "      0,\n",
      "      0,\n",
      "      0,\n",
      "      0,\n",
      "      0,\n",
      "      0,\n",
      "      2.2,\n",
      "      2.2,\n",
      "      4.4\n",
      "    ],\n",
      "    \"Test\": [\n",
      "      0,\n",
      "      0,\n",
      "      0,\n",
      "      0,\n",
      "      0,\n",
      "      0,\n",
      "      0,\n",
      "      0,\n",
      "      1500,\n",
      "      10500,\n",
      "      10500,\n",
      "      12000,\n",
      "      12000\n",
      "    ],\n",
      "    \"Sim Events\": [\n",
      "      0,\n",
      "      0,\n",
      "      0,\n",
      "      0,\n",
      "      0,\n",
      "      0,\n",
      "      0,\n",
      "      0,\n",
      "      10,\n",
      "      10,\n",
      "      10,\n",
      "      10,\n",
      "      10\n",
      "    ]\n",
      "  },\n",
      "  \"ND\": {\n",
      "    \"Raw\": 10,\n",
      "    \"CPU\": 0.05,\n",
      "    \"Sim-CPU\": 0.12,\n",
      "    \"Reco\": 20,\n",
      "    \"Sim\": 50,\n",
      "    \"Events\": [\n",
      "      0,\n",
      "      0,\n",
      "      0,\n",
      "      0,\n",
      "      10,\n",
      "      10,\n",
      "      0,\n",
      "      0,\n",
      "      0,\n",
      "      0,\n",
      "      0,\n",
      "      25,\n",
      "      25\n",
      "    ],\n",
      "    \"Test\": [\n",
      "      0,\n",
      "      0,\n",
      "      0,\n",
      "      0,\n",
      "      300,\n",
      "      300,\n",
      "      0,\n",
      "      0,\n",
      "      0,\n",
      "      0,\n",
      "      0,\n",
      "      500,\n",
      "      500\n",
      "    ],\n",
      "    \"Sim Events\": [\n",
      "      0,\n",
      "      0,\n",
      "      10,\n",
      "      25,\n",
      "      10,\n",
      "      10,\n",
      "      10,\n",
      "      10,\n",
      "      50,\n",
      "      50,\n",
      "      100,\n",
      "      100,\n",
      "      100\n",
      "    ]\n",
      "  },\n",
      "  \"Analysis\": {\n",
      "    \"Scale\": 1,\n",
      "    \"Add\": [\n",
      "      \"ProtoDUNE\",\n",
      "      \"FD\",\n",
      "      \"ND\"\n",
      "    ]\n",
      "  },\n",
      "  \"TapeLifetimes\": {\n",
      "    \"Raw\": 100,\n",
      "    \"Test\": 0.5,\n",
      "    \"Reco\": 15,\n",
      "    \"Sim\": 15\n",
      "  },\n",
      "  \"DiskLifetimes\": {\n",
      "    \"Raw\": 1,\n",
      "    \"Test\": 0.5,\n",
      "    \"Reco\": 2,\n",
      "    \"Sim\": 2\n",
      "  },\n",
      "  \"TapeCopies\": {\n",
      "    \"Raw\": 2,\n",
      "    \"Test\": 1,\n",
      "    \"Reco\": 1,\n",
      "    \"Sim\": 1\n",
      "  },\n",
      "  \"DiskCopies\": {\n",
      "    \"Raw\": 1,\n",
      "    \"Test\": 0.5,\n",
      "    \"Reco\": 2,\n",
      "    \"Sim\": 2\n",
      "  },\n",
      "  \"PerYear\": {\n",
      "    \"Raw\": 1,\n",
      "    \"Test\": 1,\n",
      "    \"Reco\": 2,\n",
      "    \"Sim\": 1,\n",
      "    \"Events\": 1,\n",
      "    \"Sim Events\": 1,\n",
      "    \"CPU\": 2,\n",
      "    \"Sim-CPU\": 1,\n",
      "    \"Analysis\": 1,\n",
      "    \"Analysis-CPU\": 1\n",
      "  },\n",
      "  \"Cores\": {\n",
      "    \"Efficiency\": 0.7,\n",
      "    \"2020Units\": 1\n",
      "  },\n",
      "  \"TypeColors\": {\n",
      "    \"Raw\": \"blue\",\n",
      "    \"Test\": \"orange\",\n",
      "    \"Reco\": \"red\",\n",
      "    \"Sim\": \"grey\",\n",
      "    \"Total\": \"black\"\n",
      "  },\n",
      "  \"TypeLines\": {\n",
      "    \"Raw\": \"solid\",\n",
      "    \"Test\": \"dashed\",\n",
      "    \"Reco\": \"solid\",\n",
      "    \"Sim\": \"dashed\",\n",
      "    \"Total\": \"solid\"\n",
      "  },\n",
      "  \"DetColors\": {\n",
      "    \"SP\": \"green\",\n",
      "    \"DP\": \"green\",\n",
      "    \"ProtoDUNE\": \"blue\",\n",
      "    \"FD\": \"red\",\n",
      "    \"ND\": \"grey\",\n",
      "    \"Analysis\": \"orange\",\n",
      "    \"Total\": \"black\"\n",
      "  },\n",
      "  \"DetLines\": {\n",
      "    \"SP\": \"solid\",\n",
      "    \"DP\": \"dotted\",\n",
      "    \"ProtoDUNE\": \"solid\",\n",
      "    \"FD\": \"solid\",\n",
      "    \"ND\": \"solid\",\n",
      "    \"Analysis\": \"dashed\",\n",
      "    \"Total\": \"solid\"\n",
      "  }\n",
      "}\n"
     ]
    }
   ],
   "source": [
    "json_formatted_str = commentjson.dumps(config, indent=2)\n",
    "\n",
    "print(json_formatted_str)"
   ]
  },
  {
   "cell_type": "markdown",
   "metadata": {},
   "source": [
    "    Set up parameters from input file "
   ]
  },
  {
   "cell_type": "code",
   "execution_count": 8,
   "metadata": {
    "jupyter": {
     "source_hidden": true
    }
   },
   "outputs": [],
   "source": [
    "# set up shortcuts for parameters\n",
    "\n",
    "Years = np.array(config[\"Years\"])\n",
    "size = len(Years)\n",
    "\n",
    "Units = config[\"Units\"]\n",
    "\n",
    "Detectors = config[\"Detectors\"]\n",
    "\n",
    "CombinedDetectors = config[\"CombinedDetectors\"]\n",
    "\n",
    "DetectorParameters = list(config[\"SP\"].keys())\n",
    "\n",
    "TapeLifetimes = config[\"TapeLifetimes\"]\n",
    "\n",
    "DiskLifetimes = config[\"DiskLifetimes\"]\n",
    "\n",
    "TapeCopies = config[\"TapeCopies\"]\n",
    "\n",
    "DiskCopies = config[\"DiskCopies\"]\n",
    "\n",
    "PerYear = config[\"PerYear\"]\n",
    "\n",
    "StorageTypes = list(TapeCopies.keys())\n",
    "\n",
    "# plot config\n",
    "DetColors=config[\"DetColors\"]\n",
    "DetLines = config[\"DetLines\"]\n",
    "TypeColors=config[\"TypeColors\"]\n",
    "TypeLines = config[\"TypeLines\"]"
   ]
  },
  {
   "cell_type": "markdown",
   "metadata": {},
   "source": [
    "Make data structures - Inputs and Data \n",
    "\n",
    "Data[type][det] is an dictionary keyed on type and detector"
   ]
  },
  {
   "cell_type": "code",
   "execution_count": 9,
   "metadata": {},
   "outputs": [],
   "source": [
    "# build the inputs array\n",
    "\n",
    "Inputs = {}\n",
    "\n",
    "# get in the input values (Events and amount of commissioning in TB)\n",
    " \n",
    "# these variables are set in the json file\n",
    "\n",
    "dofirst = [\"Events\",\"Test\",\"Sim Events\"]\n",
    "\n",
    "for det in [\"SP\",\"DP\",\"ND\",\"FD\"]:\n",
    "  Inputs[det]={}\n",
    "  for type in dofirst:\n",
    "    Inputs[det][type] = np.array(config[det][type])\n",
    "    \n",
    "# use those to calculate CPU and space needs\n",
    "    \n",
    "for det in Detectors:\n",
    "    \n",
    "  for key in DetectorParameters:\n",
    "    # skip the ones already done\n",
    "    if key in dofirst:\n",
    "      continue\n",
    "    # sim has its own configuration \n",
    "    if not \"Sim\" in key:\n",
    "      Inputs[det][key]=Inputs[det][\"Events\"]*config[det][key]\n",
    "    else:\n",
    "      Inputs[det][key]=Inputs[det][\"Sim Events\"]*config[det][key]\n",
    "      \n",
    "# write some of this out\n",
    "\n",
    "o = open(\"out.csv\",'w')\n",
    "o.write(dump(\"Year\",\"Years\",Years))\n",
    "\n",
    "# use inputs to calculate per year sizes and store in transposed map Data\n",
    "\n",
    "Data = {}\n",
    "for i in Inputs[\"ND\"].keys():\n",
    "  Data[i] = {}\n",
    "  for k in Inputs.keys():\n",
    "    # this allows you to, say, do 2 passes of reco/year\n",
    "    Data[i][k] = Inputs[k][i] * float(PerYear[i])\n",
    "    # compensate for nominal units being millions and TB or singles and MB\n",
    "    if Units[i] == \"PB\":\n",
    "      Data[i][k] *= 0.001\n",
    "    o.write(dump(k,i,Data[i][k]))\n"
   ]
  },
  {
   "cell_type": "code",
   "execution_count": 10,
   "metadata": {},
   "outputs": [
    {
     "name": "stdout",
     "output_type": "stream",
     "text": [
      "types dict_keys(['Events', 'Test', 'Sim Events', 'Raw', 'CPU', 'Sim-CPU', 'Reco', 'Sim'])\n",
      "detectors dict_keys(['SP', 'DP', 'ND', 'FD'])\n",
      "values [0.  0.  0.  0.  0.  0.  0.  0.  0.  0.  2.2 2.2 4.4]\n"
     ]
    }
   ],
   "source": [
    "print (\"types\",Data.keys())\n",
    "print (\"detectors\", Data[\"Events\"].keys())\n",
    "print (\"values\", Data[\"Events\"][\"FD\"])"
   ]
  },
  {
   "cell_type": "markdown",
   "metadata": {},
   "source": [
    "Now draw the # of events/year"
   ]
  },
  {
   "cell_type": "code",
   "execution_count": 11,
   "metadata": {},
   "outputs": [
    {
     "data": {
      "image/png": "[encoded data removed]",
      "text/plain": [
       "<Figure size 432x288 with 1 Axes>"
      ]
     },
     "metadata": {
      "needs_background": "light"
     },
     "output_type": "display_data"
    }
   ],
   "source": [
    "DrawDet(\"Events\",Years,Data,Inputs.keys(),Units,DetColors,DetLines)"
   ]
  },
  {
   "cell_type": "markdown",
   "metadata": {},
   "source": [
    "Combine the protoDUNEs into one and replace them in Data"
   ]
  },
  {
   "cell_type": "code",
   "execution_count": 12,
   "metadata": {},
   "outputs": [],
   "source": [
    "# combine ProtoDUNEs into one and get rid of SP and DP\n",
    "\n",
    "for k in Data.keys():\n",
    "  i = \"ProtoDUNE\"\n",
    "  Data[k][i] = Data[k][\"SP\"] + Data[k][\"DP\"]\n",
    "  Data[k].pop(\"SP\")\n",
    "  Data[k].pop(\"DP\")\n",
    "  o.write(dump(i,k,Data[k][i]))"
   ]
  },
  {
   "cell_type": "markdown",
   "metadata": {},
   "source": [
    "Make a Total-CPU datatype, and a Total \"detector\" which sums over detectors"
   ]
  },
  {
   "cell_type": "code",
   "execution_count": 13,
   "metadata": {
    "jupyter": {
     "source_hidden": true
    }
   },
   "outputs": [],
   "source": [
    "# make a total CPU category\n",
    "\n",
    "Data[\"Total-CPU\"]={}\n",
    "\n",
    "for det in CombinedDetectors:\n",
    "  Data[\"Total-CPU\"][det] =  Data[\"CPU\"][det] + Data[\"Sim-CPU\"][det]\n",
    "  \n",
    "# sum up data across detectors.\n",
    "\n",
    "DataTypes = list(Data.keys())\n",
    "for dt in DataTypes:\n",
    "  Data[dt][\"Total\"] = np.zeros(size)\n",
    "  for k in Data[dt].keys():\n",
    "    if k == \"Total\":\n",
    "      continue\n",
    "    Data[dt][\"Total\"] += Data[dt][k]"
   ]
  },
  {
   "cell_type": "markdown",
   "metadata": {},
   "source": [
    "Make an Analysis \"detector\" that scales with sum of CPU use for all detectors them and add into Total-CPU"
   ]
  },
  {
   "cell_type": "code",
   "execution_count": 14,
   "metadata": {
    "jupyter": {
     "source_hidden": true
    }
   },
   "outputs": [],
   "source": [
    "# assume analysis CPU = some multiplier of total sim + reco\n",
    "\n",
    "Data[\"Total-CPU\"][\"Analysis\"]= np.zeros(size)\n",
    "for det in config[\"Analysis\"][\"Add\"]:\n",
    "    # scale allows you to change the scale of analysis relative to reconstruction and simulations\n",
    "  Data[\"Total-CPU\"][\"Analysis\"]+= Data[\"Total-CPU\"][det]*config[\"Analysis\"][\"Scale\"]\n",
    "  \n",
    "o.write(dump(\"Analysis\",\"Total-CPU\",Data[\"Total-CPU\"][\"Analysis\"]))\n",
    "  \n",
    "# and put it in the total\n",
    "\n",
    "Data[\"Total-CPU\"][\"Total\"] += Data[\"Total-CPU\"][\"Analysis\"]"
   ]
  },
  {
   "cell_type": "markdown",
   "metadata": {},
   "source": [
    "Make a Cores type that is just CPU scaled to a 2020 CPU with some efficiency"
   ]
  },
  {
   "cell_type": "code",
   "execution_count": 15,
   "metadata": {
    "jupyter": {
     "source_hidden": true
    }
   },
   "outputs": [],
   "source": [
    "# and make a special data type for cores\n",
    "\n",
    "Data[\"Cores\"] = {}\n",
    "MHrsPerYear = 1000000./365/24\n",
    "for k in Data[\"Total-CPU\"].keys():\n",
    "  efficiency = config[\"Cores\"][\"Efficiency\"]\n",
    "  scaleTo2020 = config[\"Cores\"][\"2020Units\"]\n",
    "  Data[\"Cores\"][k] = Data[\"Total-CPU\"][k]*MHrsPerYear/efficiency/scaleTo2020"
   ]
  },
  {
   "cell_type": "code",
   "execution_count": 16,
   "metadata": {
    "jupyter": {
     "source_hidden": true
    }
   },
   "outputs": [],
   "source": [
    "\n",
    "# write out the totals\n",
    "\n",
    "for k in Data.keys():\n",
    "  #print (\"total:\",k,Units[k], Data[k][\"Total\"])\n",
    "  o.write(dump(\"Total\",k,Data[k][\"Total\"]))\n"
   ]
  },
  {
   "cell_type": "markdown",
   "metadata": {},
   "source": [
    "Use the data lifetimes and # of copies to sum up cumulative amounts for disk and tape "
   ]
  },
  {
   "cell_type": "code",
   "execution_count": 17,
   "metadata": {
    "jupyter": {
     "source_hidden": true
    }
   },
   "outputs": [
    {
     "data": {
      "text/plain": [
       "163"
      ]
     },
     "execution_count": 17,
     "metadata": {},
     "output_type": "execute_result"
    }
   ],
   "source": [
    "\n",
    "# now do some cumulative work.  Stuff stays on tape/disk for different amounts of time and we have multiple copies\n",
    "\n",
    "Data[\"Total\"] = {}\n",
    "Data[\"Total\"][\"Cumulative Tape\"] = 0\n",
    "Data[\"Total\"][\"Cumulative Disk\"] = 0\n",
    "for k in StorageTypes:\n",
    "  Data[k][\"Tape\"] = Data[k][\"Total\"]*TapeCopies[k]\n",
    "  o.write(dump(\"Tape Copies\",k,Data[k][\"Tape\"]))\n",
    "  Data[k][\"Disk\"] = Data[k][\"Total\"]*DiskCopies[k]\n",
    "  o.write(dump(\"Disk Copies\",k,Data[k][\"Disk\"]))\n",
    "  Data[k][\"Cumulative Tape\"] = cumulate(Data[k][\"Tape\"],TapeLifetimes[k])\n",
    "  o.write(dump(\"Cumulative Tape\",k,Data[k][\"Cumulative Tape\"]))\n",
    "  Data[k][\"Cumulative Disk\"] = cumulate(Data[k][\"Disk\"],DiskLifetimes[k])\n",
    "  o.write(dump(\"Cumulative Disk\",k,Data[k][\"Cumulative Disk\"] ))\n",
    "  Data[\"Total\"][\"Cumulative Tape\"] += Data[k][\"Cumulative Tape\"]\n",
    "  Data[\"Total\"][\"Cumulative Disk\"] += Data[k][\"Cumulative Disk\"]\n",
    "o.write(dump(\"Cumulative Tape\",\"All\",Data[\"Total\"][\"Cumulative Tape\"] ))\n",
    "o.write(dump(\"Cumulative Disk\",\"All\",Data[\"Total\"][\"Cumulative Disk\"] ))"
   ]
  },
  {
   "cell_type": "markdown",
   "metadata": {},
   "source": [
    "Draw various summaries"
   ]
  },
  {
   "cell_type": "code",
   "execution_count": 18,
   "metadata": {},
   "outputs": [
    {
     "data": {
      "image/png": "[encoded data removed]",
      "text/plain": [
       "<Figure size 432x288 with 1 Axes>"
      ]
     },
     "metadata": {
      "needs_background": "light"
     },
     "output_type": "display_data"
    },
    {
     "data": {
      "image/png": "[encoded data removed]",
      "text/plain": [
       "<Figure size 432x288 with 1 Axes>"
      ]
     },
     "metadata": {
      "needs_background": "light"
     },
     "output_type": "display_data"
    },
    {
     "data": {
      "image/png": "[encoded data removed]",
      "text/plain": [
       "<Figure size 432x288 with 1 Axes>"
      ]
     },
     "metadata": {
      "needs_background": "light"
     },
     "output_type": "display_data"
    },
    {
     "data": {
      "image/png": "[encoded data removed]",
      "text/plain": [
       "<Figure size 432x288 with 1 Axes>"
      ]
     },
     "metadata": {
      "needs_background": "light"
     },
     "output_type": "display_data"
    }
   ],
   "source": [
    "Types = [\"ProtoDUNE\",\"FD\",\"ND\",\"Analysis\",\"Total\"]\n",
    "DrawDet(\"Total-CPU\",Years,Data,Types,Units,DetColors,DetLines)\n",
    "DrawDet(\"Cores\",Years,Data,Types,Units,DetColors,DetLines)\n",
    "DrawType(\"Cumulative Tape\",Years,Data,StorageTypes+[\"Total\"],Units,TypeColors,TypeLines)\n",
    "DrawType(\"Cumulative Disk\",Years,Data,StorageTypes+[\"Total\"],Units,TypeColors,TypeLines)\n"
   ]
  }
 ],
 "metadata": {
  "kernelspec": {
   "display_name": "Python 3",
   "language": "python",
   "name": "python3"
  },
  "language_info": {
   "codemirror_mode": {
    "name": "ipython",
    "version": 3
   },
   "file_extension": ".py",
   "mimetype": "text/x-python",
   "name": "python",
   "nbconvert_exporter": "python",
   "pygments_lexer": "ipython3",
   "version": "3.9.0"
  }
 },
 "nbformat": 4,
 "nbformat_minor": 4
}
