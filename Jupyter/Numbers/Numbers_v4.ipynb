{
 "cells": [
  {
   "cell_type": "markdown",
   "metadata": {},
   "source": [
    "Get Externals, Note use of commentjson"
   ]
  },
  {
   "cell_type": "code",
   "execution_count": 1,
   "metadata": {},
   "outputs": [],
   "source": [
    "import os,sys,string,time,commentjson,datetime\n",
    "from csv import reader\n",
    "import matplotlib.pyplot as plt\n",
    "import matplotlib.colors as mcolors\n",
    "\n",
    "import numpy as np"
   ]
  },
  {
   "cell_type": "markdown",
   "metadata": {},
   "source": [
    "Utility function: object = cummulate(object,lifetime)"
   ]
  },
  {
   "cell_type": "code",
   "execution_count": 2,
   "metadata": {},
   "outputs": [],
   "source": [
    "# sum backwards over lifetime of record\n",
    "def cumulate(a,lifetime=100):\n",
    "  if lifetime < 1:\n",
    "    return a*lifetime\n",
    "  b = np.zeros(len(a))\n",
    "  for i in range(0,len(a)):\n",
    "    begin = max(0,i-lifetime+1)\n",
    "    for j in range(begin,i+1):\n",
    "      b[i] += a[j]\n",
    "  return b\n",
    "  "
   ]
  },
  {
   "cell_type": "markdown",
   "metadata": {},
   "source": [
    "Utility function: string = dump(datatype,det,object,Units)"
   ]
  },
  {
   "cell_type": "code",
   "execution_count": 3,
   "metadata": {},
   "outputs": [],
   "source": [
    "from NumberUtils import dump\n",
    "from NumberUtils import DrawTex\n"
   ]
  },
  {
   "cell_type": "markdown",
   "metadata": {},
   "source": [
    "Utility function: DrawDet(Value,Years,Data,Types,Units,detcolors,detlines)"
   ]
  },
  {
   "cell_type": "code",
   "execution_count": 4,
   "metadata": {},
   "outputs": [],
   "source": [
    "from NumberUtils import DrawDet  \n"
   ]
  },
  {
   "cell_type": "markdown",
   "metadata": {},
   "source": [
    "Utility function: DrawType(Value,Years,Data,Types,Units,typecolors,typelines)"
   ]
  },
  {
   "cell_type": "code",
   "execution_count": 5,
   "metadata": {},
   "outputs": [],
   "source": [
    "# draw by data type (transpose of the detectors)\n",
    "from NumberUtils import DrawType"
   ]
  },
  {
   "cell_type": "markdown",
   "metadata": {},
   "source": [
    "Main initialization"
   ]
  },
  {
   "cell_type": "markdown",
   "metadata": {},
   "source": [
    "Read in the config file \"Parameters2040.json\""
   ]
  },
  {
   "cell_type": "code",
   "execution_count": 6,
   "metadata": {},
   "outputs": [],
   "source": [
    "# get parameters into config\n",
    "\n",
    "configfile = \"Parameters_2021-04-28-EB.json\"\n",
    "#configfile = \"Parameters_2040.json\"\n",
    "if os.path.exists(configfile):\n",
    "  with open(configfile,'r') as f:\n",
    "    config = commentjson.load(f)\n",
    "else:\n",
    "  print (\"no config file\",configfile)\n",
    "  sys.exit(0)"
   ]
  },
  {
   "cell_type": "markdown",
   "metadata": {},
   "source": [
    "Print the json file "
   ]
  },
  {
   "cell_type": "code",
   "execution_count": 7,
   "metadata": {},
   "outputs": [],
   "source": [
    "json_formatted_str = commentjson.dumps(config, indent=2)\n",
    "\n",
    "#print(json_formatted_str)"
   ]
  },
  {
   "cell_type": "markdown",
   "metadata": {},
   "source": [
    "    Set up parameters from input file "
   ]
  },
  {
   "cell_type": "code",
   "execution_count": 8,
   "metadata": {},
   "outputs": [
    {
     "name": "stdout",
     "output_type": "stream",
     "text": [
      "Tape FNAL Raw 0.5\n",
      "Tape CERN Raw 0.5\n",
      "Tape Collab Raw 0.0\n",
      "Tape FNAL Sim 0.75\n",
      "Tape CERN Sim 0.0\n",
      "Tape Collab Sim 0.25\n",
      "Tape FNAL Reco 0.75\n",
      "Tape CERN Reco 0.0\n",
      "Tape Collab Reco 0.25\n",
      "Tape FNAL Test 0.5\n",
      "Tape CERN Test 0.5\n",
      "Tape Collab Test 0.0\n",
      "Disk FNAL Raw 0.5\n",
      "Disk CERN Raw 0.5\n",
      "Disk Collab Raw 0.0\n",
      "Disk FNAL Sim 0.25\n",
      "Disk CERN Sim 0.0\n",
      "Disk Collab Sim 0.75\n",
      "Disk FNAL Reco 0.25\n",
      "Disk CERN Reco 0.0\n",
      "Disk Collab Reco 0.75\n",
      "Disk FNAL Test 0.5\n",
      "Disk CERN Test 0.5\n",
      "Disk Collab Test 0.0\n"
     ]
    }
   ],
   "source": [
    "# set up shortcuts for parameters\n",
    "\n",
    "MaxYears = config[\"MaxYears\"]\n",
    "MinYears = config[\"MinYears\"]\n",
    "Years = np.array(config[\"Years\"][0:MaxYears])\n",
    "size = len(Years)\n",
    "\n",
    "Units = config[\"Units\"]\n",
    "\n",
    "Detectors = config[\"Detectors\"]\n",
    "\n",
    "CombinedDetectors = config[\"CombinedDetectors\"]\n",
    "\n",
    "DetectorParameters = list(config[\"SP\"].keys())\n",
    "\n",
    "TapeLifetimes = config[\"TapeLifetimes\"]\n",
    "\n",
    "DiskLifetimes = config[\"DiskLifetimes\"]\n",
    "\n",
    "TapeCopies = config[\"TapeCopies\"]\n",
    "\n",
    "DiskCopies = config[\"DiskCopies\"]\n",
    "\n",
    "RecoMemory = config[\"RecoMemory\"]\n",
    "\n",
    "SplitsEarly = config[\"SplitsEarly\"]\n",
    "SplitsLater = config[\"SplitsLater\"]\n",
    "Splits = {}\n",
    "for f in SplitsEarly:\n",
    "    Splits[f] = {}\n",
    "    for t in SplitsEarly[f]:\n",
    "        Splits[f][t] = {}\n",
    "        for loc in SplitsEarly[f][t]: \n",
    "           # Splits[f][t][loc] = {}\n",
    "            print (f,loc,t,SplitsEarly[f][t][loc])\n",
    "            Splits[f][t][loc] = np.zeros(len(Years))\n",
    "            #print (f,t,Splits[f][t],Splits[f][t][0])\n",
    "    \n",
    "            for y in range(0,len(Years)):\n",
    "                if y < 9:\n",
    "                    #print (\"test\",f, t, y, Splits[f][t][y],SplitsEarly[f][t])\n",
    "                    Splits[f][t][loc][y]=SplitsEarly[f][t][loc]\n",
    "                else:\n",
    "                    Splits[f][t][loc][y]=SplitsLater[f][t][loc]\n",
    "\n",
    "#print (Splits)"
   ]
  },
  {
   "cell_type": "code",
   "execution_count": 9,
   "metadata": {},
   "outputs": [
    {
     "name": "stdout",
     "output_type": "stream",
     "text": [
      "{'Raw': 100, 'Test': 0.5, 'Reco': 15, 'Sim': 15}\n",
      "\\documentclass[12pt]{article}\n",
      "\\usepackage{graphicx}\n",
      "\\begin{document}\n",
      "\\parindent=0pt\n",
      "\\setlength{\\textwidth=7.0 in}\n",
      "\\setlength{\\oddsidemargin=0.00 in}\n",
      "\\setlength{\\topmargin=0 in}\n",
      "\\setlength{\\textheight=9.5 in}\n",
      "\n",
      "\\centerline{\\bf{DUNE Resource Report}}\\vskip 1 in \\par Configuration: Parameters_2021-04-28-EB.json\n",
      "Date: 2021-04-28 18:24TZ\n",
      " \n",
      "\n",
      "Fiscal year starts: April 1\n",
      "Tape is accounted for at: end of fiscal year\n",
      "Disk is accounted for on: October 1\n",
      "CPU is accounted for at: end of fiscal year\n",
      "\n",
      "Reco passes per Year: 1\n",
      "Sim passes per Year: 1\n",
      "Analysis relative to Sim+Reco: 1\n",
      "\n",
      "\n",
      "{\\bf For data type Raw}\n",
      "   Raw Tape lifetime 100.0 in years\n",
      "   Raw Tape Copies   2.0\n",
      "   Raw FNAL Tape fraction for PD  0.50\n",
      "   Raw FNAL Tape fraction for DUNE  0.50\n",
      "   Raw CERN Tape fraction for PD  0.50\n",
      "   Raw CERN Tape fraction for DUNE  0.00\n",
      "   Raw Collaboration Tape fraction for PD  0.00\n",
      "   Raw Collaboration Tape fraction for DUNE  0.50\n",
      "   Raw Disk lifetime   1.0 in years\n",
      "   Raw Disk Copies   1.0\n",
      "   Raw FNAL Disk fraction for PD  0.50\n",
      "   Raw FNAL Disk fraction for DUNE  1.00\n",
      "   Raw CERN Disk fraction for PD  0.50\n",
      "   Raw CERNDisk fraction for DUNE  0.00\n",
      "   Raw Collaboration Disk fraction for PD  0.00\n",
      "   Raw Collaboration Disk fraction for DUNE  0.00\n",
      "\n",
      "{\\bf For data type Test}\n",
      "  Test Tape lifetime   0.5 in years\n",
      "  Test Tape Copies   1.0\n",
      "  Test FNAL Tape fraction for PD  0.50\n",
      "  Test FNAL Tape fraction for DUNE  0.50\n",
      "  Test CERN Tape fraction for PD  0.50\n",
      "  Test CERN Tape fraction for DUNE  0.00\n",
      "  Test Collaboration Tape fraction for PD  0.00\n",
      "  Test Collaboration Tape fraction for DUNE  0.50\n",
      "  Test Disk lifetime   0.5 in years\n",
      "  Test Disk Copies   0.5\n",
      "  Test FNAL Disk fraction for PD  0.50\n",
      "  Test FNAL Disk fraction for DUNE  0.50\n",
      "  Test CERN Disk fraction for PD  0.50\n",
      "  Test CERNDisk fraction for DUNE  0.00\n",
      "  Test Collaboration Disk fraction for PD  0.00\n",
      "  Test Collaboration Disk fraction for DUNE  0.50\n",
      "\n",
      "{\\bf For data type Reco}\n",
      "  Reco Tape lifetime  15.0 in years\n",
      "  Reco Tape Copies   1.0\n",
      "  Reco FNAL Tape fraction for PD  0.75\n",
      "  Reco FNAL Tape fraction for DUNE  0.50\n",
      "  Reco CERN Tape fraction for PD  0.00\n",
      "  Reco CERN Tape fraction for DUNE  0.00\n",
      "  Reco Collaboration Tape fraction for PD  0.25\n",
      "  Reco Collaboration Tape fraction for DUNE  0.50\n",
      "  Reco Disk lifetime   2.0 in years\n",
      "  Reco Disk Copies   2.0\n",
      "  Reco FNAL Disk fraction for PD  0.25\n",
      "  Reco FNAL Disk fraction for DUNE  0.25\n",
      "  Reco CERN Disk fraction for PD  0.00\n",
      "  Reco CERNDisk fraction for DUNE  0.00\n",
      "  Reco Collaboration Disk fraction for PD  0.75\n",
      "  Reco Collaboration Disk fraction for DUNE  0.75\n",
      "\n",
      "{\\bf For data type Sim}\n",
      "   Sim Tape lifetime  15.0 in years\n",
      "   Sim Tape Copies   1.0\n",
      "   Sim FNAL Tape fraction for PD  0.75\n",
      "   Sim FNAL Tape fraction for DUNE  0.50\n",
      "   Sim CERN Tape fraction for PD  0.00\n",
      "   Sim CERN Tape fraction for DUNE  0.00\n",
      "   Sim Collaboration Tape fraction for PD  0.25\n",
      "   Sim Collaboration Tape fraction for DUNE  0.50\n",
      "   Sim Disk lifetime   2.0 in years\n",
      "   Sim Disk Copies   2.0\n",
      "   Sim FNAL Disk fraction for PD  0.25\n",
      "   Sim FNAL Disk fraction for DUNE  0.25\n",
      "   Sim CERN Disk fraction for PD  0.00\n",
      "   Sim CERNDisk fraction for DUNE  0.00\n",
      "   Sim Collaboration Disk fraction for PD  0.75\n",
      "   Sim Collaboration Disk fraction for DUNE  0.75\n",
      "\n"
     ]
    }
   ],
   "source": [
    "PerYear = config[\"PerYear\"]\n",
    "print (TapeLifetimes)\n",
    "table = open(configfile.replace(\"json\",\"txt\"),'w')\n",
    "\n",
    "tex = open(configfile.replace(\"json\",\"tex\"),'w')\n",
    "s = \"\\\\documentclass[12pt]{article}\\n\\\\usepackage{graphicx}\\n\"\n",
    "s += \"\\\\begin{document}\\n\\\\parindent=0pt\\n\\\\setlength{\\\\textwidth=7.0 in}\\n\"\n",
    "s += \"\\\\setlength{\\\\oddsidemargin=0.00 in}\\n\"\n",
    "s += \"\\\\setlength{\\\\topmargin=0 in}\\n\"\n",
    "s += \"\\\\setlength{\\\\textheight=9.5 in}\\n\"\n",
    "print(s)\n",
    "tex.write(s)\n",
    "s = \"\\\\centerline{\\\\bf{DUNE Resource Report}}\\\\vskip 1 in \\\\par Configuration: %s\\nDate: %sTZ\\n \\n\"%(configfile,(datetime.datetime.utcnow().strftime(\"%Y-%m-%d %H:%M\")))\n",
    "print(s)\n",
    "table.write(s)\n",
    "tex.write(s.replace(\"_\",\"\\_\").replace(\"\\n\",\"\\\\\\\\  \"))\n",
    "#tex.write(\"\\hline\\n\")\n",
    "\n",
    "s = \"Fiscal year starts: %s\\nTape is accounted for at: %s\\nDisk is accounted for on: %s\\nCPU is accounted for at: %s\\n\"%\\\n",
    "(config[\"FiscalYearStart\"],config[\"Tape Accounting\"],config[\"Disk Accounting\"],config[\"CPU Accounting\"])\n",
    "table.write(s)\n",
    "print(s)\n",
    "tex.write(s.replace(\"\\n\",\"\\\\\\\\ \\n\"))\n",
    "\n",
    "s = \"Reco passes per Year: %s\\nSim passes per Year: %s\\nAnalysis relative to Sim+Reco: %s\\n\"%(PerYear[\"CPU\"],PerYear[\"Sim-CPU\"],config[\"Analysis\"][\"Scale\"])\n",
    "table.write(s)\n",
    "print(s)\n",
    "tex.write(s.replace(\"\\n\",\"\\\\\\\\\\n\"))\n",
    "\n",
    "tex.write(\"\\\\pagebreak\\n\")\n",
    "s = \"\"\n",
    "for type in TapeLifetimes:\n",
    "    s += \"\\n{\\\\bf For data type %s}\\n\"%type\n",
    "   # print (s)\n",
    "   # table.write(s)\n",
    "    s += \"%6s Tape lifetime %5.1f in years\\n\"%(type,TapeLifetimes[type])\n",
    "   # print (s)\n",
    "   # table.write(s)\n",
    "    s += \"%6s Tape Copies %5.1f\\n\"%(type,TapeCopies[type])\n",
    "   # print (s)\n",
    "  #  table.write(s)\n",
    "    s += \"%6s FNAL Tape fraction for PD %5.2f\\n\"%(type,SplitsEarly[\"Tape\"][type][\"FNAL\"])\n",
    "    s += \"%6s FNAL Tape fraction for DUNE %5.2f\\n\"%(type,SplitsLater[\"Tape\"][type][\"FNAL\"])\n",
    "    s += \"%6s CERN Tape fraction for PD %5.2f\\n\"%(type,SplitsEarly[\"Tape\"][type][\"CERN\"])\n",
    "    s += \"%6s CERN Tape fraction for DUNE %5.2f\\n\"%(type,SplitsLater[\"Tape\"][type][\"CERN\"])\n",
    "    s += \"%6s Collaboration Tape fraction for PD %5.2f\\n\"%(type,SplitsEarly[\"Tape\"][type][\"Collab\"])\n",
    "    s += \"%6s Collaboration Tape fraction for DUNE %5.2f\\n\"%(type,SplitsLater[\"Tape\"][type][\"Collab\"])\n",
    "   # print (s)\n",
    "  #  table.write(s)\n",
    "    s += \"%6s Disk lifetime %5.1f in years\\n\"%(type,DiskLifetimes[type])\n",
    "   # print (s)\n",
    "  #  table.write(s)\n",
    "    s += \"%6s Disk Copies %5.1f\\n\"%(type,DiskCopies[type])\n",
    "   # print (s)\n",
    "  #  table.write(s)\n",
    "    s += \"%6s FNAL Disk fraction for PD %5.2f\\n\"%(type,SplitsEarly[\"Disk\"][type][\"FNAL\"])\n",
    "    s += \"%6s FNAL Disk fraction for DUNE %5.2f\\n\"%(type,SplitsLater[\"Disk\"][type][\"FNAL\"])\n",
    "    s += \"%6s CERN Disk fraction for PD %5.2f\\n\"%(type,SplitsEarly[\"Disk\"][type][\"CERN\"])\n",
    "    s += \"%6s CERNDisk fraction for DUNE %5.2f\\n\"%(type,SplitsLater[\"Disk\"][type][\"CERN\"])\n",
    "    s += \"%6s Collaboration Disk fraction for PD %5.2f\\n\"%(type,SplitsEarly[\"Disk\"][type][\"Collab\"])\n",
    "    s += \"%6s Collaboration Disk fraction for DUNE %5.2f\\n\"%(type,SplitsLater[\"Disk\"][type][\"Collab\"])\n",
    "  #  print (s)\n",
    "  #  table.write(s)\n",
    "    \n",
    "print(s)\n",
    "table.write(s)\n",
    "tex.write(s.replace(\"\\n\",\"\\\\\\\\\\n\"))\n",
    "\n",
    "#table.write(\"Calendar Years\")\n",
    "    \n",
    "StorageTypes = list(TapeCopies.keys())\n",
    "\n",
    "# plot config\n",
    "DetColors=config[\"DetColors\"]\n",
    "DetLines = config[\"DetLines\"]\n",
    "TypeColors=config[\"TypeColors\"]\n",
    "TypeLines = config[\"TypeLines\"]"
   ]
  },
  {
   "cell_type": "markdown",
   "metadata": {},
   "source": [
    "Make data structures - Inputs and Data \n",
    "\n",
    "Data[type][det] is an dictionary keyed on type and detector"
   ]
  },
  {
   "cell_type": "code",
   "execution_count": 10,
   "metadata": {},
   "outputs": [],
   "source": [
    "# build the inputs array\n",
    "\n",
    "Inputs = {}\n",
    "PatternFraction = config[\"PatternFraction\"]\n",
    "# get in the input values (Events and amount of commissioning in TB)\n",
    " \n",
    "# these variables are set in the json \n",
    "\n",
    "dofirst = [\"Events\",\"Test\",\"Sim Events\"]\n",
    "\n",
    "for det in [\"SP\",\"DP\",\"ND\",\"FD\"]:\n",
    "  Inputs[det]={}\n",
    "  for type in dofirst:\n",
    "    Inputs[det][type] = np.array(config[det][type])\n",
    "    Inputs[det][type].resize(MaxYears)\n",
    "     \n",
    "    #print (\"size\", det,type, Inputs[det][type].size)\n",
    "    "
   ]
  },
  {
   "cell_type": "code",
   "execution_count": 11,
   "metadata": {},
   "outputs": [
    {
     "data": {
      "text/plain": [
       "251"
      ]
     },
     "execution_count": 11,
     "metadata": {},
     "output_type": "execute_result"
    }
   ],
   "source": [
    "# use those to calculate CPU and space needs\n",
    "    \n",
    "for det in Detectors:\n",
    "    \n",
    "  for key in DetectorParameters:\n",
    "    # skip the ones already done\n",
    "    if key in dofirst:\n",
    "      continue\n",
    "    # sim has its own configuration \n",
    "    if not \"Sim\" in key:\n",
    "      \n",
    "      if key in [\"CPU\",\"Reco\"]:  # if doing reco, do over previous events using memory\n",
    "            Inputs[det][key] = cumulate(Inputs[det][\"Events\"],RecoMemory[det])*config[det][key]\n",
    "             \n",
    "      else:\n",
    "            Inputs[det][key]=Inputs[det][\"Events\"]*config[det][key]\n",
    "    else:\n",
    "      Inputs[det][key]=Inputs[det][\"Sim Events\"]*config[det][key]\n",
    "      \n",
    "# write some of this out\n",
    "#print (Inputs[\"ND\"])\n",
    "o = open(\"out.csv\",'w')\n",
    "o.write(dump(\"Year\",\"Years\",Years,Units))\n"
   ]
  },
  {
   "cell_type": "code",
   "execution_count": 12,
   "metadata": {},
   "outputs": [],
   "source": [
    "# use inputs to calculate per year sizes and store in transposed map Data\n",
    "if PerYear[\"Reco\"]!=PerYear[\"CPU\"]:\n",
    "    print (\"Data growth has to match reprocessing cycles/year\")\n",
    "    PerYear[\"Reco\"] = PerYear[\"CPU\"]\n",
    "if PerYear[\"Sim\"]!=PerYear[\"Sim-CPU\"]:\n",
    "    print (\"Sim growth has to match reprocessing cycles/year\")\n",
    "    PerYear[\"Sim\"] = PerYear[\"Sim-CPU\"]\n",
    "    \n",
    "Data = {}\n",
    "#print (Inputs.keys())\n",
    "for dtype in Inputs[\"ND\"].keys():\n",
    "  Data[dtype] = {} \n",
    "  #Data[\"Full-Reco\"] = {}\n",
    "  for det in Inputs.keys():\n",
    "    # this allows you to, say, do 2 passes of reco/year\n",
    "    Data[dtype][det] = Inputs[det][dtype] * float(PerYear[dtype])  \n",
    "    # compensate for nominal units being millions and TB or singles and MB\n",
    "    if Units[dtype] == \"PB\":\n",
    "      Data[dtype][det] *= 0.001\n",
    "    o.write(dump(det,dtype,Data[dtype][det],Units))\n",
    "    \n",
    "# replace Reco with reconstruction over previous years\n",
    "\n"
   ]
  },
  {
   "cell_type": "markdown",
   "metadata": {},
   "source": [
    "For FD and ND assume reprocess full sample when get new reco version "
   ]
  },
  {
   "cell_type": "code",
   "execution_count": 13,
   "metadata": {},
   "outputs": [
    {
     "name": "stdout",
     "output_type": "stream",
     "text": [
      "values [0.  0.  0.  0.  0.  0.  0.  0.  0.  0.  2.2 2.2 4.4 4.4 4.4 6.6 6.6 6.6\n",
      " 8.8 8.8 8.8 8.8 8.8]\n"
     ]
    }
   ],
   "source": [
    "#print (\"types\",Data.keys())\n",
    "#print (\"detectors\", Data[\"Events\"].keys())\n",
    "print (\"values\", Data[\"Events\"][\"FD\"])#"
   ]
  },
  {
   "cell_type": "markdown",
   "metadata": {},
   "source": [
    "Now draw the # of events/year"
   ]
  },
  {
   "cell_type": "code",
   "execution_count": 14,
   "metadata": {},
   "outputs": [
    {
     "data": {
      "image/png": "[encoded data removed]",
      "text/plain": [
       "<Figure size 432x288 with 1 Axes>"
      ]
     },
     "metadata": {
      "needs_background": "light"
     },
     "output_type": "display_data"
    },
    {
     "data": {
      "image/png": "[encoded data removed]",
      "text/plain": [
       "<Figure size 432x288 with 1 Axes>"
      ]
     },
     "metadata": {
      "needs_background": "light"
     },
     "output_type": "display_data"
    }
   ],
   "source": [
    "DrawDet(\"Events\",Years,Data,Inputs.keys(),Units,DetColors,DetLines)\n",
    "#DrawDet(\"CPU\",Years,Data,Inputs.keys(),Units,DetColors,DetLines)\n",
    "DrawDet(\"CPU\",Years,Data,Inputs.keys(),Units,DetColors,DetLines)"
   ]
  },
  {
   "cell_type": "markdown",
   "metadata": {},
   "source": [
    "Combine the protoDUNEs into one and replace them in Data"
   ]
  },
  {
   "cell_type": "code",
   "execution_count": 15,
   "metadata": {},
   "outputs": [],
   "source": [
    "# combine ProtoDUNEs into one and get rid of SP and DP\n",
    " \n",
    " \n",
    "for dtype in Data.keys():\n",
    "  det = \"ProtoDUNE\"\n",
    "  #print (dtype)\n",
    "  Data[dtype][det] = Data[dtype][\"SP\"] + Data[dtype][\"DP\"]\n",
    "  Data[dtype].pop(\"SP\")\n",
    "  Data[dtype].pop(\"DP\")\n",
    "\n",
    "  o.write(dump(det,dtype,Data[dtype][det],Units))"
   ]
  },
  {
   "cell_type": "markdown",
   "metadata": {},
   "source": [
    "Make a Total-CPU datatype, and a Total \"detector\" which sums over detectors"
   ]
  },
  {
   "cell_type": "code",
   "execution_count": 16,
   "metadata": {},
   "outputs": [
    {
     "name": "stdout",
     "output_type": "stream",
     "text": [
      "['Events', 'Test', 'Sim Events', 'Raw', 'Sim-CPU', 'Reco', 'Sim', 'Total-CPU']\n"
     ]
    }
   ],
   "source": [
    "# make a total CPU category\n",
    "\n",
    "Data[\"Total-CPU\"]={}\n",
    "\n",
    "for det in CombinedDetectors:\n",
    "  Data[\"Total-CPU\"][det] =  Data[\"CPU\"][det] + Data[\"Sim-CPU\"][det]\n",
    "  \n",
    "  \n",
    "Data.pop(\"CPU\")\n",
    "# sum up data across detectors.\n",
    "\n",
    "DataTypes = list(Data.keys())\n",
    "print (DataTypes)\n",
    "\n",
    "for dt in DataTypes:\n",
    "  Data[dt][\"Total\"] = np.zeros(size)\n",
    "  for k in Data[dt].keys():\n",
    "    if k == \"Total\":\n",
    "      continue\n",
    "    Data[dt][\"Total\"] += Data[dt][k]"
   ]
  },
  {
   "cell_type": "markdown",
   "metadata": {},
   "source": [
    "Make an Analysis \"detector\" that scales with sum of CPU use for all detectors them and add into Total-CPU"
   ]
  },
  {
   "cell_type": "code",
   "execution_count": 17,
   "metadata": {},
   "outputs": [],
   "source": [
    "# assume analysis CPU = some multiplier of total sim + reco\n",
    "\n",
    "Data[\"Total-CPU\"][\"Analysis\"]= np.zeros(size)\n",
    "for det in config[\"Analysis\"][\"Add\"]:\n",
    "    # scale allows you to change the scale of analysis relative to reconstruction and simulations\n",
    "  Data[\"Total-CPU\"][\"Analysis\"]+= Data[\"Total-CPU\"][det]*config[\"Analysis\"][\"Scale\"]\n",
    "  \n",
    "o.write(dump(\"Analysis\",\"Total-CPU\",Data[\"Total-CPU\"][\"Analysis\"],Units))\n",
    "  \n",
    "# and put it in the total\n",
    "\n",
    "Data[\"Total-CPU\"][\"Total\"] += Data[\"Total-CPU\"][\"Analysis\"]"
   ]
  },
  {
   "cell_type": "markdown",
   "metadata": {},
   "source": [
    "Make a Cores type that is just CPU scaled to a 2020 CPU with some efficiency"
   ]
  },
  {
   "cell_type": "code",
   "execution_count": 18,
   "metadata": {},
   "outputs": [],
   "source": [
    "# and make a special data type for cores\n",
    "\n",
    "Data[\"Cores\"] = {}\n",
    "Data[\"SPEC06\"] = {}\n",
    "MHrsPerYear = 1000000./365/24\n",
    "for k in Data[\"Total-CPU\"].keys():\n",
    "  efficiency = config[\"Cores\"][\"Efficiency\"]\n",
    "  scaleTo2020 = config[\"Cores\"][\"2020Units\"]\n",
    "  Data[\"Cores\"][k] = Data[\"Total-CPU\"][k]*MHrsPerYear/efficiency/scaleTo2020\n",
    "  Data[\"SPEC06\"][k] = Data[\"Total-CPU\"][k]*MHrsPerYear/efficiency/scaleTo2020*config[\"kHEPSPEC06PerCPU\"]"
   ]
  },
  {
   "cell_type": "code",
   "execution_count": 19,
   "metadata": {},
   "outputs": [],
   "source": [
    "\n",
    "# write out the totals\n",
    "\n",
    "for k in Data.keys():\n",
    "  #print (\"total:\",k,Units[k], Data[k][\"Total\"])\n",
    "  o.write(dump(\"Total\",k,Data[k][\"Total\"],Units))\n"
   ]
  },
  {
   "cell_type": "markdown",
   "metadata": {},
   "source": [
    "Use the data lifetimes and # of copies to sum up cumulative amounts for disk and tape "
   ]
  },
  {
   "cell_type": "code",
   "execution_count": 20,
   "metadata": {},
   "outputs": [
    {
     "name": "stdout",
     "output_type": "stream",
     "text": [
      "['Raw', 'Test', 'Reco', 'Sim']\n",
      "Raw disk [ 0.763  1.413  0.554  0.675  4.245  2.6    0.     0.     0.     0.\n",
      "  3.85   4.1    7.95   7.95   7.95  11.8   11.8   11.8   15.65  15.65\n",
      " 15.65  15.65  15.65 ] 1 [ 0.763  1.413  0.554  0.675  4.245  2.6    0.     0.     0.     0.\n",
      "  3.85   4.1    7.95   7.95   7.95  11.8   11.8   11.8   15.65  15.65\n",
      " 15.65  15.65  15.65 ]\n",
      "Raw FNAL [ 0.3815  0.7065  0.277   0.3375  2.1225  1.3     0.      0.      0.\n",
      "  0.      3.85    4.1     7.95    7.95    7.95   11.8    11.8    11.8\n",
      " 15.65   15.65   15.65   15.65   15.65  ]\n",
      "Raw FNAL [  0.763   2.176   2.73    3.405   7.65   10.25   10.25   10.25   10.25\n",
      "  10.25   14.1    18.2    26.15   34.1    42.05   53.85   65.65   77.45\n",
      "  93.1   108.75  124.4   140.05  155.7  ]\n",
      "Raw CERN [0.3815 0.7065 0.277  0.3375 2.1225 1.3    0.     0.     0.     0.\n",
      " 0.     0.     0.     0.     0.     0.     0.     0.     0.     0.\n",
      " 0.     0.     0.    ]\n",
      "Raw CERN [ 0.763  2.176  2.73   3.405  7.65  10.25  10.25  10.25  10.25   0.\n",
      "  0.     0.     0.     0.     0.     0.     0.     0.     0.     0.\n",
      "  0.     0.     0.   ]\n",
      "Raw Collab [0. 0. 0. 0. 0. 0. 0. 0. 0. 0. 0. 0. 0. 0. 0. 0. 0. 0. 0. 0. 0. 0. 0.]\n",
      "Raw Collab [  0.     0.     0.     0.     0.     0.     0.     0.     0.    10.25\n",
      "  14.1   18.2   26.15  34.1   42.05  53.85  65.65  77.45  93.1  108.75\n",
      " 124.4  140.05 155.7 ]\n",
      "Test disk [0.0785   0.321    0.5      0.500115 1.938575 0.5155   0.5      0.5\n",
      " 0.75     5.25     5.25     6.25     6.25     1.       6.25     6.25\n",
      " 1.       6.25     6.25     1.       1.       1.       1.      ] 0.5 [0.03925   0.1605    0.25      0.2500575 0.9692875 0.25775   0.25\n",
      " 0.25      0.375     2.625     2.625     3.125     3.125     0.5\n",
      " 3.125     3.125     0.5       3.125     3.125     0.5       0.5\n",
      " 0.5       0.5      ]\n",
      "Test FNAL [ 0.401125    0.78675     0.402       0.46252875  2.60714375  1.428875\n",
      "  0.125       0.125       0.1875      1.3125      5.1625      5.6625\n",
      "  9.5125      8.2         9.5125     13.3625     12.05       13.3625\n",
      " 17.2125     15.9        15.9        15.9        15.9       ]\n",
      "Test FNAL [  0.80225     2.3365      2.98        3.6550575   8.6192875  10.50775\n",
      "  10.5        10.5        10.625      12.875      16.725      21.325\n",
      "  29.275      34.6        45.175      56.975      66.15       80.575\n",
      "  96.225     109.25      124.9       140.55      156.2      ]\n",
      "Test CERN [0.401125   0.78675    0.402      0.46252875 2.60714375 1.428875\n",
      " 0.125      0.125      0.1875     0.         0.         0.\n",
      " 0.         0.         0.         0.         0.         0.\n",
      " 0.         0.         0.         0.         0.        ]\n",
      "Test CERN [ 0.80225    2.3365     2.98       3.6550575  8.6192875 10.50775\n",
      " 10.5       10.5       10.625      0.         0.         0.\n",
      "  0.         0.         0.         0.         0.         0.\n",
      "  0.         0.         0.         0.         0.       ]\n",
      "Test Collab [0.     0.     0.     0.     0.     0.     0.     0.     0.     1.3125\n",
      " 1.3125 1.5625 1.5625 0.25   1.5625 1.5625 0.25   1.5625 1.5625 0.25\n",
      " 0.25   0.25   0.25  ]\n",
      "Test Collab [  0.      0.      0.      0.      0.      0.      0.      0.      0.\n",
      "  12.875  16.725  21.325  29.275  34.6    45.175  56.975  66.15   80.575\n",
      "  96.225 109.25  124.9   140.55  156.2  ]\n",
      "Reco disk [ 0.763  2.141  2.632  2.404  4.871  6.58   6.045  2.6    0.8    0.8\n",
      "  1.57   3.34   5.88   8.42  10.96  14.27  17.58  20.89  24.97  29.05\n",
      " 33.13  37.21  41.29 ] 2 [ 0.763  2.904  4.773  5.036  7.275 11.451 12.625  8.645  3.4    1.6\n",
      "  2.37   4.91   9.22  14.3   19.38  25.23  31.85  38.47  45.86  54.02\n",
      " 62.18  70.34  78.5  ]\n",
      "Reco FNAL [ 0.591875    1.51275     1.59525     1.72152875  4.42589375  4.291625\n",
      "  3.28125     2.28625     1.0375      1.7125      5.755       6.89\n",
      " 11.8175     11.775      14.3575     19.67       20.0125     22.98\n",
      " 28.6775     29.405      31.445      33.485      35.525     ]\n",
      "Reco FNAL [  1.088375    3.4255      5.056       6.6325575  13.4234125  17.779375\n",
      "  20.0385     21.0135     21.4385     20.284      24.5265     29.9615\n",
      "  39.3815     46.8115     60.1265     75.30325    88.338     107.3275\n",
      " 128.619     147.68875   169.97625   193.4175    218.74     ]\n",
      "Reco CERN [0.401125   0.78675    0.402      0.46252875 2.60714375 1.428875\n",
      " 0.125      0.125      0.1875     0.         0.         0.\n",
      " 0.         0.         0.         0.         0.         0.\n",
      " 0.         0.         0.         0.         0.        ]\n",
      "Reco CERN [ 0.80225    2.3365     2.98       3.6550575  8.6192875 10.50775\n",
      " 10.5       10.5       10.625      0.         0.         0.\n",
      "  0.         0.         0.         0.         0.         0.\n",
      "  0.         0.         0.         0.         0.       ]\n",
      "Reco Collab [ 0.57225  2.178    3.57975  3.777    5.45625  8.58825  9.46875  6.48375\n",
      "  2.55     2.5125   3.09     5.245    8.4775  10.975   16.0975  20.485\n",
      " 24.1375  30.415   35.9575  40.765   46.885   53.005   59.125  ]\n",
      "Reco Collab [9.5375000e-02 3.6300000e-01 6.9200000e-01 9.9250000e-01 1.6013750e+00\n",
      " 2.4238750e+00 3.1795000e+00 3.5045000e+00 3.6045000e+00 2.0284000e+01\n",
      " 2.4526500e+01 2.9961500e+01 3.9381500e+01 4.6811500e+01 6.0126500e+01\n",
      " 7.5303250e+01 8.8338000e+01 1.0732750e+02 1.2861900e+02 1.4768875e+02\n",
      " 1.6997625e+02 1.9341750e+02 2.1874000e+02]\n",
      "Sim disk [ 1.1  4.4  5.4  9.1 12.  12.  12.   5.4  9.   9.  14.  14.  14.  14.\n",
      " 14.  14.  14.  14.  14.  14.  14.  14.  14. ] 2 [ 1.1  5.5  9.8 14.5 21.1 24.  24.  17.4 14.4 18.  23.  28.  28.  28.\n",
      " 28.  28.  28.  28.  28.  28.  28.  28.  28. ]\n",
      "Sim FNAL [ 0.866875    2.88775     4.04525     5.34652875  9.70089375 10.291625\n",
      "  9.28125     6.63625     4.6375      6.2125     11.505      13.89\n",
      " 18.8175     18.775      21.3575     26.67       27.0125     29.98\n",
      " 35.6775     36.405      38.445      40.485      42.525     ]\n",
      "Sim FNAL [  1.500875    5.488       9.1435     14.1325575  25.4234125  34.279375\n",
      "  41.0385     44.0385     47.8385     40.134      47.8765     56.8115\n",
      "  69.7315     80.6615     97.4765    115.87825   131.313     152.4525\n",
      " 174.969     194.53875   217.32625   241.2675    268.74     ]\n",
      "Sim CERN [0.401125   0.78675    0.402      0.46252875 2.60714375 1.428875\n",
      " 0.125      0.125      0.1875     0.         0.         0.\n",
      " 0.         0.         0.         0.         0.         0.\n",
      " 0.         0.         0.         0.         0.        ]\n",
      "Sim CERN [ 0.80225    2.3365     2.98       3.6550575  8.6192875 10.50775\n",
      " 10.5       10.5       10.625      0.         0.         0.\n",
      "  0.         0.         0.         0.         0.         0.\n",
      "  0.         0.         0.         0.         0.       ]\n",
      "Sim Collab [ 1.39725  6.303   10.92975 14.652   21.28125 26.58825 27.46875 19.53375\n",
      " 13.35    16.0125  20.34    26.245   29.4775  31.975   37.0975  41.485\n",
      " 45.1375  51.415   56.9575  61.765   67.885   74.005   80.125  ]\n",
      "Sim Collab [2.3287500e-01 1.0505000e+00 2.0545000e+00 3.4925000e+00 5.6013750e+00\n",
      " 7.9238750e+00 1.0179500e+01 1.1179500e+01 1.2404500e+01 4.0134000e+01\n",
      " 4.7876500e+01 5.6811500e+01 6.9731500e+01 8.0661500e+01 9.7476500e+01\n",
      " 1.1587825e+02 1.3131300e+02 1.5245250e+02 1.7496900e+02 1.9453875e+02\n",
      " 2.1732625e+02 2.4126750e+02 2.6874000e+02]\n"
     ]
    },
    {
     "data": {
      "text/plain": [
       "263"
      ]
     },
     "execution_count": 20,
     "metadata": {},
     "output_type": "execute_result"
    }
   ],
   "source": [
    "\n",
    "# now do some cumulative work.  Stuff stays on tape/disk for different amounts of time and we have multiple copies\n",
    "\n",
    "Data[\"Total\"] = {}\n",
    "Data[\"Collab\"] = {}\n",
    "Data[\"FNAL\"] = {}\n",
    "Data[\"CERN\"] = {}\n",
    "Data[\"Total\"][\"Cumulative Tape\"] = 0\n",
    "Data[\"Total\"][\"Cumulative Disk\"] = 0\n",
    "Data[\"FNAL\"][\"Cumulative Tape\"] = 0\n",
    "Data[\"FNAL\"][\"Cumulative Disk\"] = 0\n",
    "Data[\"CERN\"][\"Cumulative Tape\"] = 0\n",
    "Data[\"CERN\"][\"Cumulative Disk\"] = 0\n",
    "Data[\"Collab\"][\"Cumulative Tape\"] = 0\n",
    "Data[\"Collab\"][\"Cumulative Disk\"] = 0\n",
    "print (StorageTypes)\n",
    "\n",
    "\n",
    "for k in StorageTypes:\n",
    "  Data[k][\"Tape\"] = Data[k][\"Total\"]*TapeCopies[k]\n",
    "  o.write(dump(\"Tape Copies\",k,Data[k][\"Tape\"],Units))\n",
    "  Data[k][\"Disk\"] = Data[k][\"Total\"]*DiskCopies[k]\n",
    "  o.write(dump(\"Disk Copies\",k,Data[k][\"Disk\"],Units))\n",
    "  Data[k][\"Cumulative Tape\"] = cumulate(Data[k][\"Tape\"],TapeLifetimes[k])\n",
    "  #o.write(dump(\"Cumulative Tape\",k,Data[k][\"Cumulative Tape\"],Units))\n",
    "  Data[k][\"Cumulative Disk\"] = cumulate(Data[k][\"Disk\"],DiskLifetimes[k])\n",
    "  print (k, \"disk\",Data[k][\"Disk\"],DiskLifetimes[k],cumulate(Data[k][\"Disk\"],DiskLifetimes[k]))\n",
    "  o.write(dump(\"Cumulative Disk\",k,Data[k][\"Cumulative Disk\"],Units ))\n",
    "  o.write(dump(\"Cumulative Tape\",k,Data[k][\"Cumulative Tape\"],Units ))\n",
    "  Data[\"Total\"][\"Cumulative Tape\"] += Data[k][\"Cumulative Tape\"]\n",
    "  Data[\"Total\"][\"Cumulative Disk\"] += Data[k][\"Cumulative Disk\"]\n",
    "  for loc in Splits[\"Disk\"][\"Raw\"]:\n",
    "      Data[loc][\"Cumulative Disk\"] += Data[k][\"Cumulative Disk\"]*Splits[\"Disk\"][k][loc]\n",
    "      Data[loc][\"Cumulative Tape\"] += Data[k][\"Cumulative Tape\"]*Splits[\"Tape\"][k][loc]\n",
    "      print (k,loc,Data[loc][\"Cumulative Disk\"])\n",
    "      print (k,loc,Data[loc][\"Cumulative Tape\"])\n",
    "o.write(dump(\"Cumulative Tape\",\"All\",Data[\"Total\"][\"Cumulative Tape\"],Units ))\n",
    "o.write(dump(\"Cumulative Disk\",\"All\",Data[\"Total\"][\"Cumulative Disk\"],Units ))\n",
    "\n"
   ]
  },
  {
   "cell_type": "markdown",
   "metadata": {},
   "source": [
    "Draw various summaries"
   ]
  },
  {
   "cell_type": "code",
   "execution_count": 21,
   "metadata": {},
   "outputs": [
    {
     "name": "stdout",
     "output_type": "stream",
     "text": [
      " ,\t CPU ,\tWall,\tWall F/C,\t\\qquad  ,\t Tape\\qquad,\t Tape\\qquad  ,\t Disk\\qquad  ,\t Disk\\qquad \n",
      "Years,\t(Mhrs),\tkSPEC06,\tkSPEC06,\tcores,\t Total(PB),\tF/C/Collab ,\t Total(PB) ,\tF/C/Collab\n",
      "\n"
     ]
    }
   ],
   "source": [
    "Types = [\"ProtoDUNE\",\"FD\",\"ND\",\"Analysis\",\"Total\"]\n",
    "\n",
    "# print (dump(\"Year\",\"Years\",Years,Units))\n",
    "# print (dump(\"Total\",\"Cumulative Tape\",Data[\"Total\"][\"Cumulative Tape\"],Units))\n",
    "# print (dump(\"Total\",\"Cumulative Disk\",Data[\"Total\"][\"Cumulative Disk\"],Units))\n",
    "\n",
    "\n",
    "tex.write(\"\\\\begin{table}\\n\\\\footnotesize\\n \\\\centering \\\\begin{tabular}[h]{crrrrrcccc}\\n\")\n",
    "             \n",
    "s =  \" ,\\t CPU ,\\tWall,\\tWall F/C,\\t\\qquad  ,\\t Tape\\qquad,\\t Tape\\qquad  ,\\t Disk\\qquad  ,\\t Disk\\qquad \\n\"\n",
    "s +=  \"Years,\\t(Mhrs),\\tkSPEC06,\\tkSPEC06,\\tcores,\\t Total(PB),\\tF/C/Collab ,\\t Total(PB) ,\\tF/C/Collab\\n\"\n",
    "\n",
    "table.write(s)\n",
    "print(s)\n",
    "tex.write(s.replace(\"\\n\",\"\\\\\\\\\\n\").replace(\",\\t\",\"&\"))\n",
    "#s = \"Assume present core is %6.3f kSPEC06 \\nCPU # is real CPU, Cores and SPEC06 are Walltime with CPU/Walltime = %5.2f\\n\"%(config[\"kHEPSPEC06PerCPU\"], config[\"Cores\"][\"Efficiency\"])\n",
    "#print (s)\n",
    "#table.write(s)\n",
    "tex.write(\"\\hline\\n\")\n",
    "\n",
    "cores = Data[\"Cores\"][\"Total\"]\n",
    "cpu = Data[\"Total-CPU\"][\"Total\"]\n",
    "disk = Data[\"Total\"][\"Cumulative Disk\"]\n",
    "tape = Data[\"Total\"][\"Cumulative Tape\"]\n",
    "diskF = Data[\"FNAL\"][\"Cumulative Disk\"]\n",
    "tapeF = Data[\"FNAL\"][\"Cumulative Tape\"]\n",
    "diskCE = Data[\"CERN\"][\"Cumulative Disk\"]\n",
    "tapeCE= Data[\"CERN\"][\"Cumulative Tape\"]\n",
    "diskC = Data[\"Collab\"][\"Cumulative Disk\"]\n",
    "tapeC = Data[\"Collab\"][\"Cumulative Tape\"]\n",
    "hep = Data[\"SPEC06\"][\"Total\"]\n",
    "#print (cpu,cores,disk,tape)\n",
    "\n",
    "# CPUused = np.zeros(len(Years))\n",
    "\n",
    "  \n",
    "# for t in config[\"USED\"][\"CPU\"]:\n",
    "        \n",
    "#         for site in config[\"USED\"][\"CPU\"][t]:\n",
    "#             print (t,site)\n",
    "#             for y in range(0,len(Years)):\n",
    "#                 print (t,site,y,config[\"USED\"][\"CPU\"][t][site][y])\n",
    "#                 CPUused[y]+=config[\"USED\"][\"CPU\"][t][site][y]\n",
    "        "
   ]
  },
  {
   "cell_type": "code",
   "execution_count": 22,
   "metadata": {},
   "outputs": [
    {
     "name": "stdout",
     "output_type": "stream",
     "text": [
      "2020,\t  30,\t  54,\t  14/  41,\t  4915,\t     14.2,\t   9.1/  3.0/  2.1,\t     15.4,\t   4.0/  0.4/ 10.9\n",
      "2021,\t  40,\t  73,\t  18/  54,\t  6594,\t     21.3,\t  14.1/  3.7/  3.5,\t     20.5,\t   5.3/  0.5/ 14.7\n",
      "2022,\t  64,\t 115,\t  29/  86,\t 10443,\t     39.6,\t  25.4/  8.6/  5.6,\t     33.6,\t   9.7/  2.6/ 21.3\n",
      "2023,\t  73,\t 130,\t  33/  98,\t 11835,\t     52.7,\t  34.3/ 10.5/  7.9,\t     38.3,\t  10.3/  1.4/ 26.6\n",
      "2024,\t  70,\t 125,\t  31/  94,\t 11373,\t     61.7,\t  41.0/ 10.5/ 10.2,\t     36.9,\t   9.3/  0.1/ 27.5\n",
      "2025,\t  29,\t  53,\t  13/  40,\t  4795,\t     65.7,\t  44.0/ 10.5/ 11.2,\t     26.3,\t   6.6/  0.1/ 19.5\n",
      "2026,\t  29,\t  52,\t  13/  39,\t  4729,\t     70.9,\t  47.8/ 10.6/ 12.4,\t     18.2,\t   4.6/  0.2/ 13.4\n",
      "2027,\t  29,\t  52,\t  13/  39,\t  4729,\t     80.3,\t  40.1/  0.0/ 40.1,\t     22.2,\t   6.2/  0.0/ 16.0\n",
      "2028,\t  46,\t  83,\t  21/  63,\t  7583,\t     95.8,\t  47.9/  0.0/ 47.9,\t     31.8,\t  11.5/  0.0/ 20.3\n",
      "2029,\t  54,\t  98,\t  24/  73,\t  8888,\t    113.6,\t  56.8/  0.0/ 56.8,\t     40.1,\t  13.9/  0.0/ 26.2\n",
      "2030,\t  68,\t 122,\t  30/  91,\t 11089,\t    139.5,\t  69.7/  0.0/ 69.7,\t     48.3,\t  18.8/  0.0/ 29.5\n",
      "2031,\t  82,\t 146,\t  37/ 110,\t 13291,\t    161.3,\t  80.7/  0.0/ 80.7,\t     50.8,\t  18.8/  0.0/ 32.0\n",
      "2032,\t  95,\t 170,\t  43/ 128,\t 15492,\t    195.0,\t  97.5/  0.0/ 97.5,\t     58.5,\t  21.4/  0.0/ 37.1\n",
      "2033,\t 114,\t 205,\t  51/ 153,\t 18591,\t    231.8,\t 115.9/  0.0/115.9,\t     68.2,\t  26.7/  0.0/ 41.5\n",
      "2034,\t 133,\t 239,\t  60/ 179,\t 21689,\t    262.6,\t 131.3/  0.0/131.3,\t     72.2,\t  27.0/  0.0/ 45.1\n",
      "2035,\t 152,\t 273,\t  68/ 205,\t 24788,\t    304.9,\t 152.5/  0.0/152.5,\t     81.4,\t  30.0/  0.0/ 51.4\n",
      "2036,\t 176,\t 317,\t  79/ 237,\t 28783,\t    349.9,\t 175.0/  0.0/175.0,\t     92.6,\t  35.7/  0.0/ 57.0\n",
      "2037,\t 201,\t 361,\t  90/ 270,\t 32779,\t    389.1,\t 194.5/  0.0/194.5,\t     98.2,\t  36.4/  0.0/ 61.8\n",
      "2038,\t 226,\t 405,\t 101/ 303,\t 36774,\t    434.7,\t 217.3/  0.0/217.3,\t    106.3,\t  38.4/  0.0/ 67.9\n",
      "2039,\t 250,\t 448,\t 112/ 336,\t 40770,\t    482.5,\t 241.3/  0.0/241.3,\t    114.5,\t  40.5/  0.0/ 74.0\n",
      "2040,\t 274,\t 492,\t 123/ 369,\t 44765,\t    537.5,\t 268.7/  0.0/268.7,\t    122.7,\t  42.5/  0.0/ 80.1\n",
      "\n",
      "2020,\t  30,\t  54,\t  14/  41,\t  4915,\t     14.2,\t   9.1/  3.0/  2.1,\t     15.4,\t   4.0/  0.4/ 10.9\n",
      "2021,\t  40,\t  73,\t  18/  54,\t  6594,\t     21.3,\t  14.1/  3.7/  3.5,\t     20.5,\t   5.3/  0.5/ 14.7\n",
      "2022,\t  64,\t 115,\t  29/  86,\t 10443,\t     39.6,\t  25.4/  8.6/  5.6,\t     33.6,\t   9.7/  2.6/ 21.3\n",
      "2023,\t  73,\t 130,\t  33/  98,\t 11835,\t     52.7,\t  34.3/ 10.5/  7.9,\t     38.3,\t  10.3/  1.4/ 26.6\n",
      "2024,\t  70,\t 125,\t  31/  94,\t 11373,\t     61.7,\t  41.0/ 10.5/ 10.2,\t     36.9,\t   9.3/  0.1/ 27.5\n",
      "2025,\t  29,\t  53,\t  13/  40,\t  4795,\t     65.7,\t  44.0/ 10.5/ 11.2,\t     26.3,\t   6.6/  0.1/ 19.5\n",
      "2026,\t  29,\t  52,\t  13/  39,\t  4729,\t     70.9,\t  47.8/ 10.6/ 12.4,\t     18.2,\t   4.6/  0.2/ 13.4\n",
      "2027,\t  29,\t  52,\t  13/  39,\t  4729,\t     80.3,\t  40.1/  0.0/ 40.1,\t     22.2,\t   6.2/  0.0/ 16.0\n",
      "2028,\t  46,\t  83,\t  21/  63,\t  7583,\t     95.8,\t  47.9/  0.0/ 47.9,\t     31.8,\t  11.5/  0.0/ 20.3\n",
      "2029,\t  54,\t  98,\t  24/  73,\t  8888,\t    113.6,\t  56.8/  0.0/ 56.8,\t     40.1,\t  13.9/  0.0/ 26.2\n",
      "2030,\t  68,\t 122,\t  30/  91,\t 11089,\t    139.5,\t  69.7/  0.0/ 69.7,\t     48.3,\t  18.8/  0.0/ 29.5\n",
      "2031,\t  82,\t 146,\t  37/ 110,\t 13291,\t    161.3,\t  80.7/  0.0/ 80.7,\t     50.8,\t  18.8/  0.0/ 32.0\n",
      "2032,\t  95,\t 170,\t  43/ 128,\t 15492,\t    195.0,\t  97.5/  0.0/ 97.5,\t     58.5,\t  21.4/  0.0/ 37.1\n",
      "2033,\t 114,\t 205,\t  51/ 153,\t 18591,\t    231.8,\t 115.9/  0.0/115.9,\t     68.2,\t  26.7/  0.0/ 41.5\n",
      "2034,\t 133,\t 239,\t  60/ 179,\t 21689,\t    262.6,\t 131.3/  0.0/131.3,\t     72.2,\t  27.0/  0.0/ 45.1\n",
      "2035,\t 152,\t 273,\t  68/ 205,\t 24788,\t    304.9,\t 152.5/  0.0/152.5,\t     81.4,\t  30.0/  0.0/ 51.4\n",
      "2036,\t 176,\t 317,\t  79/ 237,\t 28783,\t    349.9,\t 175.0/  0.0/175.0,\t     92.6,\t  35.7/  0.0/ 57.0\n",
      "2037,\t 201,\t 361,\t  90/ 270,\t 32779,\t    389.1,\t 194.5/  0.0/194.5,\t     98.2,\t  36.4/  0.0/ 61.8\n",
      "2038,\t 226,\t 405,\t 101/ 303,\t 36774,\t    434.7,\t 217.3/  0.0/217.3,\t    106.3,\t  38.4/  0.0/ 67.9\n",
      "2039,\t 250,\t 448,\t 112/ 336,\t 40770,\t    482.5,\t 241.3/  0.0/241.3,\t    114.5,\t  40.5/  0.0/ 74.0\n",
      "2040,\t 274,\t 492,\t 123/ 369,\t 44765,\t    537.5,\t 268.7/  0.0/268.7,\t    122.7,\t  42.5/  0.0/ 80.1\n",
      "\n",
      "https://github.com/DUNE/Computing-CDR/blob/master/Jupyter/Numbers/\n"
     ]
    },
    {
     "data": {
      "image/png": "[encoded data removed]",
      "text/plain": [
       "<Figure size 432x288 with 1 Axes>"
      ]
     },
     "metadata": {
      "needs_background": "light"
     },
     "output_type": "display_data"
    },
    {
     "data": {
      "image/png": "[encoded data removed]",
      "text/plain": [
       "<Figure size 432x288 with 1 Axes>"
      ]
     },
     "metadata": {
      "needs_background": "light"
     },
     "output_type": "display_data"
    },
    {
     "data": {
      "image/png": "[encoded data removed]",
      "text/plain": [
       "<Figure size 432x288 with 1 Axes>"
      ]
     },
     "metadata": {
      "needs_background": "light"
     },
     "output_type": "display_data"
    },
    {
     "data": {
      "image/png": "[encoded data removed]",
      "text/plain": [
       "<Figure size 432x288 with 1 Axes>"
      ]
     },
     "metadata": {
      "needs_background": "light"
     },
     "output_type": "display_data"
    },
    {
     "data": {
      "image/png": "[encoded data removed]",
      "text/plain": [
       "<Figure size 432x288 with 1 Axes>"
      ]
     },
     "metadata": {
      "needs_background": "light"
     },
     "output_type": "display_data"
    }
   ],
   "source": [
    "s = \"\"\n",
    "for i in range(MinYears,len(Years)):  \n",
    "    format = \"%d,\\t%4.0f,\\t%4.0f,\\t%4.0f/%4.0f,\\t %5.0f,\\t %8.1f,\\t %5.1f/%5.1f/%5.1f,\\t %8.1f,\\t %5.1f/%5.1f/%5.1f\\n\"\n",
    "    s += (format)%(Years[i],round(cpu[i]), round(hep[i]),round(hep[i]*.25),round(hep[i]*.75),round(cores[i]),tape[i],tapeF[i],tapeCE[i],tapeC[i],disk[i],diskF[i],diskCE[i],diskC[i])\n",
    "print (s)\n",
    "table.write(s)\n",
    "caption = \"Assume present core is %4.0f SPEC06. CPU number is real CPU. Cores and SPEC06 are Walltime with CPU/Walltime = %5.2f. \"%(config[\"kHEPSPEC06PerCPU\"]*1000, config[\"Cores\"][\"Efficiency\"])\n",
    "caption += \" F means FNAL, C means CERN. Assume CERN storage is only  for ProtoDUNE.\"\n",
    "caption += \" CPU should be divided 25\\% FNAL, 75\\% Collab\"\n",
    "tex.write(s.replace(\"\\n\",\"\\\\\\\\\\n\").replace(\",\",\"&\"))\n",
    "tex.write(\"\\\\end{tabular}\\n\\\\caption{%s}\"%caption)\n",
    "tex.write(\"\\\\normalsize\\n \\\\end{table}\\n\")    \n",
    "\n",
    "asssume = \"Assume present core is %6.3f kSPEC06 \\nCPU # is real CPU, Cores and SPEC06 are Walltime with CPU/Walltime = %5.2f\\n\"%(config[\"kHEPSPEC06PerCPU\"], config[\"Cores\"][\"Efficiency\"])\n",
    "\n",
    "print (s)\n",
    "table.write(s)\n",
    "    \n",
    "s = \"https://github.com/DUNE/Computing-CDR/blob/master/Jupyter/Numbers/\"    \n",
    "print(s)\n",
    "table.write(s)\n",
    "\n",
    "\n",
    "DrawDet(\"Total-CPU\",Years,Data,Types,Units,DetColors,DetLines)\n",
    "DrawDet(\"Cores\",Years,Data,Types,Units,DetColors,DetLines)\n",
    "\n",
    "DrawType(\"Cumulative Tape\",Years,Data,StorageTypes+[\"Total\"],Units,TypeColors,TypeLines)\n",
    "DrawType(\"Cumulative Disk\",Years,Data,StorageTypes+[\"Total\"],Units,TypeColors,TypeLines)\n",
    "# draw twice to fool print\n",
    "DrawType(\"Cumulative Disk\",Years,Data,StorageTypes+[\"Total\"],Units,TypeColors,TypeLines)"
   ]
  },
  {
   "cell_type": "code",
   "execution_count": 23,
   "metadata": {},
   "outputs": [
    {
     "name": "stdout",
     "output_type": "stream",
     "text": [
      "2021-04-27 change HSPEC06 to 11 from 15 per CMS numbers from Kirby\n",
      "\n",
      "2021-04-21 clarify CERN vs Collab for first 10 years\n",
      "\n",
      "2021-03-26 clearer plots, go to v3 of the code to preserve the RRB code in v2\n",
      "\n",
      "2021-03-24 try with CERN/FNAL combined for raw and test.\n",
      "\n",
      "2021-03-22 add Collab vs FNAL shares, restore sim disk lifetime to 2.\n",
      "\n",
      "This is pdfTeX, Version 3.141592653-2.6-1.40.22 (TeX Live 2021) (preloaded format=pdflatex)\n",
      " restricted \\write18 enabled.\n",
      "entering extended mode\n",
      "(./Parameters_2021-04-28-EB.tex\n",
      "LaTeX2e <2020-10-01> patch level 4\n",
      "L3 programming layer <2021-02-18>\n",
      "(/usr/local/texlive/2021/texmf-dist/tex/latex/base/article.cls\n",
      "Document Class: article 2020/04/10 v1.4m Standard LaTeX document class\n",
      "(/usr/local/texlive/2021/texmf-dist/tex/latex/base/size12.clo))\n",
      "(/usr/local/texlive/2021/texmf-dist/tex/latex/graphics/graphicx.sty\n",
      "(/usr/local/texlive/2021/texmf-dist/tex/latex/graphics/keyval.sty)\n",
      "(/usr/local/texlive/2021/texmf-dist/tex/latex/graphics/graphics.sty\n",
      "(/usr/local/texlive/2021/texmf-dist/tex/latex/graphics/trig.sty)\n",
      "(/usr/local/texlive/2021/texmf-dist/tex/latex/graphics-cfg/graphics.cfg)\n",
      "(/usr/local/texlive/2021/texmf-dist/tex/latex/graphics-def/pdftex.def)))\n",
      "(/usr/local/texlive/2021/texmf-dist/tex/latex/l3backend/l3backend-pdftex.def)\n",
      "No file Parameters_2021-04-28-EB.aux.\n",
      "(/usr/local/texlive/2021/texmf-dist/tex/context/base/mkii/supp-pdf.mkii\n",
      "[Loading MPS to PDF converter (version 2006.09.02).]\n",
      ") (/usr/local/texlive/2021/texmf-dist/tex/latex/epstopdf-pkg/epstopdf-base.sty\n",
      "(/usr/local/texlive/2021/texmf-dist/tex/latex/latexconfig/epstopdf-sys.cfg))\n",
      "Overfull \\hbox (107.19554pt too wide) in paragraph at lines 91--117\n",
      " [][] \n",
      "\n",
      "Underfull \\hbox (badness 10000) in paragraph at lines 9--135\n",
      "\n",
      "\n",
      "Underfull \\hbox (badness 10000) in paragraph at lines 9--135\n",
      "\n",
      "\n",
      "Underfull \\hbox (badness 10000) in paragraph at lines 9--135\n",
      "\n",
      "\n",
      "Underfull \\hbox (badness 10000) in paragraph at lines 9--135\n",
      "\n",
      "[1{/usr/local/texlive/2021/texmf-var/fonts/map/pdftex/updmap/pdftex.map}]\n",
      "[2] [3]\n",
      "Underfull \\hbox (badness 10000) in paragraph at lines 136--137\n",
      "\n",
      "[4] [5 <./Total-CPU.png> <./Cores.png>] [6 <./Cumulative-Tape.png> <./Cumulativ\n",
      "e-Disk.png>] (./Parameters_2021-04-28-EB.aux)\n",
      "\n",
      "LaTeX Warning: Label(s) may have changed. Rerun to get cross-references right.\n",
      "\n",
      " )\n",
      "(see the transcript file for additional information)</usr/local/texlive/2021/te\n",
      "xmf-dist/fonts/type1/public/amsfonts/cm/cmbx12.pfb></usr/local/texlive/2021/tex\n",
      "mf-dist/fonts/type1/public/amsfonts/cm/cmr10.pfb></usr/local/texlive/2021/texmf\n",
      "-dist/fonts/type1/public/amsfonts/cm/cmr12.pfb>\n",
      "Output written on Parameters_2021-04-28-EB.pdf (6 pages, 115082 bytes).\n",
      "Transcript written on Parameters_2021-04-28-EB.log.\n"
     ]
    }
   ],
   "source": [
    "table.close()\n",
    "tex.write(\"\\\\pagebreak\")\n",
    "tex.write(DrawTex(\"Total-CPU.png\",\"CPU time in Wall Hours/year\",\"TotalCPU\"))\n",
    "tex.write(DrawTex(\"Cores.png\",\"Cores needed, including efficiency loss\",\"Cores\"))\n",
    "tex.write(DrawTex(\"Cumulative-Tape.png\",\"Tape tape needs, PB, all types are cumulative over tape lifetime\",\"CumulativeTape\"))\n",
    "tex.write(DrawTex(\"Cumulative-Disk\",\"Disk needs, PB.  Reco and Sim are cumulative over disk lifetime.  Raw and Test have sub-year lifetimes.\",\"CumulativeDisk\"))\n",
    "tex.write(\"\\\\vskip 3 in\\\\pagebreak \\n {\\\\bf Change log:}\\\\\\\\\\n\")\n",
    "for c in config[\"Changes\"]:\n",
    "    tex.write(\"%s\\\\\\\\\"%c)\n",
    "    print (\"%s\\n\"%c)\n",
    "tex.write(\"\\end{document}\")\n",
    "tex.close()\n",
    "o.close()\n",
    "\n",
    "texname = configfile.replace(\"json\",\"tex\")\n",
    "cmd='pdflatex %s'%texname\n",
    "!{cmd}"
   ]
  },
  {
   "cell_type": "code",
   "execution_count": null,
   "metadata": {},
   "outputs": [],
   "source": []
  },
  {
   "cell_type": "code",
   "execution_count": null,
   "metadata": {},
   "outputs": [],
   "source": []
  },
  {
   "cell_type": "code",
   "execution_count": null,
   "metadata": {},
   "outputs": [],
   "source": []
  }
 ],
 "metadata": {
  "kernelspec": {
   "display_name": "Python 3",
   "language": "python",
   "name": "python3"
  },
  "language_info": {
   "codemirror_mode": {
    "name": "ipython",
    "version": 3
   },
   "file_extension": ".py",
   "mimetype": "text/x-python",
   "name": "python",
   "nbconvert_exporter": "python",
   "pygments_lexer": "ipython3",
   "version": "3.9.4"
  }
 },
 "nbformat": 4,
 "nbformat_minor": 4
}
